{
  "nbformat": 4,
  "nbformat_minor": 0,
  "metadata": {
    "colab": {
      "name": "python book practice",
      "provenance": [],
      "authorship_tag": "ABX9TyOXIR1EOCCKBvEzGfwEDMat",
      "include_colab_link": true
    },
    "kernelspec": {
      "name": "python3",
      "display_name": "Python 3"
    }
  },
  "cells": [
    {
      "cell_type": "markdown",
      "metadata": {
        "id": "view-in-github",
        "colab_type": "text"
      },
      "source": [
        "<a href=\"https://colab.research.google.com/github/thepjos/Coin-Flip/blob/main/python_book_practice.ipynb\" target=\"_parent\"><img src=\"https://colab.research.google.com/assets/colab-badge.svg\" alt=\"Open In Colab\"/></a>"
      ]
    },
    {
      "cell_type": "code",
      "metadata": {
        "id": "G6gqtwprR5Xx"
      },
      "source": [
        "# write a function  is_between(x, y, z) that returns True if x<= y <= z and false otherwise\n",
        "\n",
        "\n",
        "\n",
        "def is_between(x, y, z):\n",
        "  if (y >= x) and (y <= z):\n",
        "    return True\n",
        "  else:\n",
        "    return False\n",
        "\n"
      ],
      "execution_count": null,
      "outputs": []
    },
    {
      "cell_type": "code",
      "metadata": {
        "id": "0Rc-Se54X2y6",
        "colab": {
          "base_uri": "https://localhost:8080/",
          "height": 34
        },
        "outputId": "a6ea2e42-fa64-4a8d-a39c-cdf90bf2ae52"
      },
      "source": [
        "is_between(2,5, 4)"
      ],
      "execution_count": null,
      "outputs": [
        {
          "output_type": "execute_result",
          "data": {
            "text/plain": [
              "False"
            ]
          },
          "metadata": {
            "tags": []
          },
          "execution_count": 2
        }
      ]
    },
    {
      "cell_type": "code",
      "metadata": {
        "id": "XuGNiMypX7In",
        "colab": {
          "base_uri": "https://localhost:8080/",
          "height": 34
        },
        "outputId": "670c2d8b-9245-42f2-a98f-8507add79145"
      },
      "source": [
        "is_between(1,7,10)"
      ],
      "execution_count": null,
      "outputs": [
        {
          "output_type": "execute_result",
          "data": {
            "text/plain": [
              "True"
            ]
          },
          "metadata": {
            "tags": []
          },
          "execution_count": 3
        }
      ]
    },
    {
      "cell_type": "code",
      "metadata": {
        "id": "AWsFZU-DX9n2",
        "colab": {
          "base_uri": "https://localhost:8080/",
          "height": 34
        },
        "outputId": "51e5e29e-fd0f-4672-ceaa-19cc94f5dd81"
      },
      "source": [
        "is_between(2,3,4)"
      ],
      "execution_count": null,
      "outputs": [
        {
          "output_type": "execute_result",
          "data": {
            "text/plain": [
              "True"
            ]
          },
          "metadata": {
            "tags": []
          },
          "execution_count": 4
        }
      ]
    },
    {
      "cell_type": "code",
      "metadata": {
        "id": "LpdDZW0lX_6H",
        "colab": {
          "base_uri": "https://localhost:8080/",
          "height": 34
        },
        "outputId": "01ffd278-bff5-4be4-d2b2-88279368c1c6"
      },
      "source": [
        "is_between(5,4,3)"
      ],
      "execution_count": null,
      "outputs": [
        {
          "output_type": "execute_result",
          "data": {
            "text/plain": [
              "False"
            ]
          },
          "metadata": {
            "tags": []
          },
          "execution_count": 5
        }
      ]
    },
    {
      "cell_type": "code",
      "metadata": {
        "id": "wG4tSKCRYCOm",
        "colab": {
          "base_uri": "https://localhost:8080/",
          "height": 85
        },
        "outputId": "fe8d9655-4a1c-485f-ba68-9b49e5c2e20c"
      },
      "source": [
        "# Write a function that takes a number as an argument, which is the number of coin flips. Then return, the number of heads, the number of tails. \n",
        "# then return the number of heads IN A ROW, how many consecutive heads happened. same with tails. \n",
        "\n",
        "\n",
        "from random import randint\n",
        "from itertools import groupby\n",
        "\n",
        "flip_list = []\n",
        "\n",
        "for i in range(25):\n",
        "  flip = randint(0, 1)\n",
        "  if flip == 0:\n",
        "      flip_list.append('H')\n",
        "  else:\n",
        "      flip_list.append('T')\n",
        "  \n",
        " \n",
        "print(flip_list)\n",
        "heads_count = flip_list.count('H')\n",
        "tails_count = flip_list.count('T')\n",
        "print(f'Heads: {heads_count}')\n",
        "print(f'Tails: {tails_count}')\n",
        "\n",
        "grouped_list = [[k,len(list(v))] for k,v in groupby(flip_list)]\n",
        "#max_list = max(grouped_list)\n",
        "#print(max_list)\n",
        "print(sorted(grouped_list, reverse=True))"
      ],
      "execution_count": null,
      "outputs": [
        {
          "output_type": "stream",
          "text": [
            "['H', 'H', 'T', 'T', 'T', 'H', 'H', 'H', 'H', 'H', 'T', 'H', 'H', 'H', 'T', 'H', 'H', 'H', 'H', 'H', 'T', 'T', 'H', 'T', 'H']\n",
            "Heads: 17\n",
            "Tails: 8\n",
            "[['T', 3], ['T', 2], ['T', 1], ['T', 1], ['T', 1], ['H', 5], ['H', 5], ['H', 3], ['H', 2], ['H', 1], ['H', 1]]\n"
          ],
          "name": "stdout"
        }
      ]
    },
    {
      "cell_type": "code",
      "metadata": {
        "id": "Elrg_kaD0agk",
        "colab": {
          "base_uri": "https://localhost:8080/",
          "height": 51
        },
        "outputId": "736733d2-67da-47a5-8157-a8deda0915e8"
      },
      "source": [
        "idx = 0\n",
        "h = []\n",
        "t = []\n",
        "y = sorted(grouped_list, reverse=True)\n",
        "for x in y:\n",
        "  if ('T' in y[idx]) and (len(t)== 0):\n",
        "    t.append(y[idx])\n",
        "    idx +=1\n",
        "  elif ('H' in y[idx]) and (len(h)== 0):\n",
        "    h.append(y[idx])\n",
        "  else:\n",
        "    idx +=1 \n",
        "    continue\n",
        "    \n",
        "\n",
        "print(h)\n",
        "print(t)"
      ],
      "execution_count": null,
      "outputs": [
        {
          "output_type": "stream",
          "text": [
            "[['H', 4]]\n",
            "[['T', 5]]\n"
          ],
          "name": "stdout"
        }
      ]
    },
    {
      "cell_type": "code",
      "metadata": {
        "id": "XPjYl1Gt8iKy"
      },
      "source": [
        "from random import randint\n",
        "from itertools import groupby\n",
        "\n",
        "def flip_some_coins(flips):\n",
        "  flip_list = []                         #empty list just to store the results one by one\n",
        "  for i in range(flips):                 #flip a coin, heads or tails, as many as user enters\n",
        "    flip = randint(0, 1)\n",
        "    if flip == 0:\n",
        "        flip_list.append('H')            #append to the list of results\n",
        "    else:\n",
        "        flip_list.append('T')\n",
        "  #print(flip_list)\n",
        "  heads_count = flip_list.count('H')     #count the total \n",
        "  tails_count = flip_list.count('T')\n",
        "  print(f'Heads: {heads_count}')\n",
        "  print(f'Tails: {tails_count}')\n",
        "  grouped_list = [[k,len(list(v))] for k,v in groupby(flip_list)]   #found on google. Allowed me to iterate thru and group by heads and tails\n",
        "  idx = 0\n",
        "  h = []                                  # empty list to put the highest number in for each heads and tails\n",
        "  t = []\n",
        "  y = sorted(grouped_list, reverse=True)  # sorting made it easier to grab the highest\n",
        "  for x in y:\n",
        "    if ('T' in y[idx]) and (len(t)== 0):  # if its T, put in list. First one is highest b/c of the reverse sort\n",
        "      t.append(y[idx])\n",
        "      idx +=1\n",
        "    elif ('H' in y[idx]) and (len(h)== 0):\n",
        "      h.append(y[idx])\n",
        "    else:\n",
        "      idx +=1 \n",
        "      continue\n",
        "  print(f'Longest streak of Heads: {h[0][1]}')\n",
        "  print(f'Longest streak of Tails: {t[0][1]}')"
      ],
      "execution_count": null,
      "outputs": []
    },
    {
      "cell_type": "code",
      "metadata": {
        "id": "mNwasB0xDCOK",
        "colab": {
          "base_uri": "https://localhost:8080/"
        },
        "outputId": "e7596bba-3889-488a-df56-83305ee09c9b"
      },
      "source": [
        "flip_some_coins(1000)\n"
      ],
      "execution_count": null,
      "outputs": [
        {
          "output_type": "stream",
          "text": [
            "Heads: 501\n",
            "Tails: 499\n",
            "Longest streak of Heads: 10\n",
            "Longest streak of Tails: 8\n"
          ],
          "name": "stdout"
        }
      ]
    },
    {
      "cell_type": "code",
      "metadata": {
        "id": "2EC_LPgjDQB9"
      },
      "source": [
        ""
      ],
      "execution_count": null,
      "outputs": []
    }
  ]
}